{
  "cells": [
    {
      "cell_type": "markdown",
      "metadata": {
        "id": "view-in-github",
        "colab_type": "text"
      },
      "source": [
        "<a href=\"https://colab.research.google.com/github/Jyoti200/Sales_forescasting/blob/main/Sale_Forecasting.ipynb\" target=\"_parent\"><img src=\"https://colab.research.google.com/assets/colab-badge.svg\" alt=\"Open In Colab\"/></a>"
      ]
    },
    {
      "cell_type": "markdown",
      "metadata": {
        "id": "yem0aAlfbJ1T"
      },
      "source": [
        "# Store Sales- Time Series Forecasting"
      ]
    },
    {
      "cell_type": "markdown",
      "metadata": {
        "id": "WQk7iCB5ZuY1"
      },
      "source": [
        " We will predict sales for the thousands of product families sold at Favorita stores located in Ecuador. The training data includes dates, store and product information, whether that item was being promoted, as well as the sales numbers."
      ]
    },
    {
      "cell_type": "markdown",
      "metadata": {
        "id": "mqOxvyYhZ9S5"
      },
      "source": [
        "**train.csv**\n",
        "1. The training data, comprising time series of features store_nbr, family, and onpromotion as well as the target sales.\n",
        "2. **store_nbr** identifies the store at which the products are sold. **family** identifies the type of product sold.\n",
        "3. **sales** gives the total sales for a product family at a particular store at a given date. Fractional values are possible since products can be sold in fractional units (1.5 kg of cheese, for instance, as opposed to 1 bag of chips).\n",
        "**onpromotion** gives the total number of items in a product family that were being promoted at a store at a given date.\n",
        "\n",
        "**test.csv**\n",
        "The test data, having the same features as the training data. You will predict the target sales for the dates in this file.\n",
        "The dates in the test data are for the 15 days after the last date in the training data.\n",
        "\n",
        "**stores.csv**\n",
        "\n",
        "Store metadata, including city, state, type, and cluster.\n",
        "cluster is a grouping of similar stores.\n",
        "\n",
        "**oil.csv**\n",
        "Daily oil price. Includes values during both the train and test data timeframes. (Ecuador is an oil-dependent country and it's economical health is highly vulnerable to shocks in oil prices.)\n",
        "\n",
        "**holidays_events.csv**\n",
        "\n",
        "Holidays and Events, with metadata"
      ]
    },
    {
      "cell_type": "markdown",
      "metadata": {
        "id": "6hFTejYIiogv"
      },
      "source": [
        "To predict sales of a store we need\n",
        "\n",
        "\n",
        "*   Previous records of sales\n",
        "*   Holidays present as during holidays sales gets increased\n",
        "*   Oil prices as Ecuador is an oil based economy\n",
        "*   Date for time series analysis\n",
        "*   Geographical location\n",
        "*   \n",
        "\n",
        "\n",
        "\n"
      ]
    },
    {
      "cell_type": "code",
      "execution_count": 9,
      "metadata": {
        "id": "FQxesG8DZQTl"
      },
      "outputs": [],
      "source": [
        "# Import all necessary libraries\n",
        "import numpy as np\n",
        "import pandas as pd\n",
        "import matplotlib.pyplot as plt\n",
        "import plotly.express as px\n",
        "import seaborn as sns\n",
        "import warnings\n",
        "warnings.filterwarnings('ignore')"
      ]
    },
    {
      "cell_type": "code",
      "execution_count": 10,
      "metadata": {
        "colab": {
          "base_uri": "https://localhost:8080/"
        },
        "id": "8t_YpoYUaDzZ",
        "outputId": "38f42434-6979-4f23-e9ba-2fd33026f72c"
      },
      "outputs": [
        {
          "output_type": "stream",
          "name": "stdout",
          "text": [
            "Requirement already satisfied: kaggle in /usr/local/lib/python3.10/dist-packages (1.6.14)\n",
            "Requirement already satisfied: six>=1.10 in /usr/local/lib/python3.10/dist-packages (from kaggle) (1.16.0)\n",
            "Requirement already satisfied: certifi>=2023.7.22 in /usr/local/lib/python3.10/dist-packages (from kaggle) (2024.7.4)\n",
            "Requirement already satisfied: python-dateutil in /usr/local/lib/python3.10/dist-packages (from kaggle) (2.8.2)\n",
            "Requirement already satisfied: requests in /usr/local/lib/python3.10/dist-packages (from kaggle) (2.31.0)\n",
            "Requirement already satisfied: tqdm in /usr/local/lib/python3.10/dist-packages (from kaggle) (4.66.4)\n",
            "Requirement already satisfied: python-slugify in /usr/local/lib/python3.10/dist-packages (from kaggle) (8.0.4)\n",
            "Requirement already satisfied: urllib3 in /usr/local/lib/python3.10/dist-packages (from kaggle) (2.0.7)\n",
            "Requirement already satisfied: bleach in /usr/local/lib/python3.10/dist-packages (from kaggle) (6.1.0)\n",
            "Requirement already satisfied: webencodings in /usr/local/lib/python3.10/dist-packages (from bleach->kaggle) (0.5.1)\n",
            "Requirement already satisfied: text-unidecode>=1.3 in /usr/local/lib/python3.10/dist-packages (from python-slugify->kaggle) (1.3)\n",
            "Requirement already satisfied: charset-normalizer<4,>=2 in /usr/local/lib/python3.10/dist-packages (from requests->kaggle) (3.3.2)\n",
            "Requirement already satisfied: idna<4,>=2.5 in /usr/local/lib/python3.10/dist-packages (from requests->kaggle) (3.7)\n"
          ]
        }
      ],
      "source": [
        "!pip install kaggle"
      ]
    },
    {
      "cell_type": "code",
      "execution_count": null,
      "metadata": {
        "colab": {
          "base_uri": "https://localhost:8080/",
          "height": 38
        },
        "id": "kkpF2ROvaD2z",
        "outputId": "ddcd353e-6161-4ed3-e9f5-844277f75ee0"
      },
      "outputs": [
        {
          "output_type": "display_data",
          "data": {
            "text/plain": [
              "<IPython.core.display.HTML object>"
            ],
            "text/html": [
              "\n",
              "     <input type=\"file\" id=\"files-14c0a3d3-4b99-460f-8596-8aa5fc6e74f0\" name=\"files[]\" multiple disabled\n",
              "        style=\"border:none\" />\n",
              "     <output id=\"result-14c0a3d3-4b99-460f-8596-8aa5fc6e74f0\">\n",
              "      Upload widget is only available when the cell has been executed in the\n",
              "      current browser session. Please rerun this cell to enable.\n",
              "      </output>\n",
              "      <script>// Copyright 2017 Google LLC\n",
              "//\n",
              "// Licensed under the Apache License, Version 2.0 (the \"License\");\n",
              "// you may not use this file except in compliance with the License.\n",
              "// You may obtain a copy of the License at\n",
              "//\n",
              "//      http://www.apache.org/licenses/LICENSE-2.0\n",
              "//\n",
              "// Unless required by applicable law or agreed to in writing, software\n",
              "// distributed under the License is distributed on an \"AS IS\" BASIS,\n",
              "// WITHOUT WARRANTIES OR CONDITIONS OF ANY KIND, either express or implied.\n",
              "// See the License for the specific language governing permissions and\n",
              "// limitations under the License.\n",
              "\n",
              "/**\n",
              " * @fileoverview Helpers for google.colab Python module.\n",
              " */\n",
              "(function(scope) {\n",
              "function span(text, styleAttributes = {}) {\n",
              "  const element = document.createElement('span');\n",
              "  element.textContent = text;\n",
              "  for (const key of Object.keys(styleAttributes)) {\n",
              "    element.style[key] = styleAttributes[key];\n",
              "  }\n",
              "  return element;\n",
              "}\n",
              "\n",
              "// Max number of bytes which will be uploaded at a time.\n",
              "const MAX_PAYLOAD_SIZE = 100 * 1024;\n",
              "\n",
              "function _uploadFiles(inputId, outputId) {\n",
              "  const steps = uploadFilesStep(inputId, outputId);\n",
              "  const outputElement = document.getElementById(outputId);\n",
              "  // Cache steps on the outputElement to make it available for the next call\n",
              "  // to uploadFilesContinue from Python.\n",
              "  outputElement.steps = steps;\n",
              "\n",
              "  return _uploadFilesContinue(outputId);\n",
              "}\n",
              "\n",
              "// This is roughly an async generator (not supported in the browser yet),\n",
              "// where there are multiple asynchronous steps and the Python side is going\n",
              "// to poll for completion of each step.\n",
              "// This uses a Promise to block the python side on completion of each step,\n",
              "// then passes the result of the previous step as the input to the next step.\n",
              "function _uploadFilesContinue(outputId) {\n",
              "  const outputElement = document.getElementById(outputId);\n",
              "  const steps = outputElement.steps;\n",
              "\n",
              "  const next = steps.next(outputElement.lastPromiseValue);\n",
              "  return Promise.resolve(next.value.promise).then((value) => {\n",
              "    // Cache the last promise value to make it available to the next\n",
              "    // step of the generator.\n",
              "    outputElement.lastPromiseValue = value;\n",
              "    return next.value.response;\n",
              "  });\n",
              "}\n",
              "\n",
              "/**\n",
              " * Generator function which is called between each async step of the upload\n",
              " * process.\n",
              " * @param {string} inputId Element ID of the input file picker element.\n",
              " * @param {string} outputId Element ID of the output display.\n",
              " * @return {!Iterable<!Object>} Iterable of next steps.\n",
              " */\n",
              "function* uploadFilesStep(inputId, outputId) {\n",
              "  const inputElement = document.getElementById(inputId);\n",
              "  inputElement.disabled = false;\n",
              "\n",
              "  const outputElement = document.getElementById(outputId);\n",
              "  outputElement.innerHTML = '';\n",
              "\n",
              "  const pickedPromise = new Promise((resolve) => {\n",
              "    inputElement.addEventListener('change', (e) => {\n",
              "      resolve(e.target.files);\n",
              "    });\n",
              "  });\n",
              "\n",
              "  const cancel = document.createElement('button');\n",
              "  inputElement.parentElement.appendChild(cancel);\n",
              "  cancel.textContent = 'Cancel upload';\n",
              "  const cancelPromise = new Promise((resolve) => {\n",
              "    cancel.onclick = () => {\n",
              "      resolve(null);\n",
              "    };\n",
              "  });\n",
              "\n",
              "  // Wait for the user to pick the files.\n",
              "  const files = yield {\n",
              "    promise: Promise.race([pickedPromise, cancelPromise]),\n",
              "    response: {\n",
              "      action: 'starting',\n",
              "    }\n",
              "  };\n",
              "\n",
              "  cancel.remove();\n",
              "\n",
              "  // Disable the input element since further picks are not allowed.\n",
              "  inputElement.disabled = true;\n",
              "\n",
              "  if (!files) {\n",
              "    return {\n",
              "      response: {\n",
              "        action: 'complete',\n",
              "      }\n",
              "    };\n",
              "  }\n",
              "\n",
              "  for (const file of files) {\n",
              "    const li = document.createElement('li');\n",
              "    li.append(span(file.name, {fontWeight: 'bold'}));\n",
              "    li.append(span(\n",
              "        `(${file.type || 'n/a'}) - ${file.size} bytes, ` +\n",
              "        `last modified: ${\n",
              "            file.lastModifiedDate ? file.lastModifiedDate.toLocaleDateString() :\n",
              "                                    'n/a'} - `));\n",
              "    const percent = span('0% done');\n",
              "    li.appendChild(percent);\n",
              "\n",
              "    outputElement.appendChild(li);\n",
              "\n",
              "    const fileDataPromise = new Promise((resolve) => {\n",
              "      const reader = new FileReader();\n",
              "      reader.onload = (e) => {\n",
              "        resolve(e.target.result);\n",
              "      };\n",
              "      reader.readAsArrayBuffer(file);\n",
              "    });\n",
              "    // Wait for the data to be ready.\n",
              "    let fileData = yield {\n",
              "      promise: fileDataPromise,\n",
              "      response: {\n",
              "        action: 'continue',\n",
              "      }\n",
              "    };\n",
              "\n",
              "    // Use a chunked sending to avoid message size limits. See b/62115660.\n",
              "    let position = 0;\n",
              "    do {\n",
              "      const length = Math.min(fileData.byteLength - position, MAX_PAYLOAD_SIZE);\n",
              "      const chunk = new Uint8Array(fileData, position, length);\n",
              "      position += length;\n",
              "\n",
              "      const base64 = btoa(String.fromCharCode.apply(null, chunk));\n",
              "      yield {\n",
              "        response: {\n",
              "          action: 'append',\n",
              "          file: file.name,\n",
              "          data: base64,\n",
              "        },\n",
              "      };\n",
              "\n",
              "      let percentDone = fileData.byteLength === 0 ?\n",
              "          100 :\n",
              "          Math.round((position / fileData.byteLength) * 100);\n",
              "      percent.textContent = `${percentDone}% done`;\n",
              "\n",
              "    } while (position < fileData.byteLength);\n",
              "  }\n",
              "\n",
              "  // All done.\n",
              "  yield {\n",
              "    response: {\n",
              "      action: 'complete',\n",
              "    }\n",
              "  };\n",
              "}\n",
              "\n",
              "scope.google = scope.google || {};\n",
              "scope.google.colab = scope.google.colab || {};\n",
              "scope.google.colab._files = {\n",
              "  _uploadFiles,\n",
              "  _uploadFilesContinue,\n",
              "};\n",
              "})(self);\n",
              "</script> "
            ]
          },
          "metadata": {}
        }
      ],
      "source": [
        "from google.colab import files\n",
        "files.upload()  # This will prompt you to upload the kaggle.json file\n"
      ]
    },
    {
      "cell_type": "code",
      "execution_count": null,
      "metadata": {
        "id": "fYXgaNPDYWU1"
      },
      "outputs": [],
      "source": [
        "!mkdir -p ~/.kaggle\n",
        "!mv 'kaggle.json' ~/.kaggle/kaggle.json"
      ]
    },
    {
      "cell_type": "code",
      "execution_count": null,
      "metadata": {
        "id": "UhStY3tWYg3B"
      },
      "outputs": [],
      "source": [
        "!chmod 600 ~/.kaggle/kaggle.json"
      ]
    },
    {
      "cell_type": "code",
      "execution_count": null,
      "metadata": {
        "id": "oQHPRnV4a6lm"
      },
      "outputs": [],
      "source": [
        "!kaggle competitions download -c store-sales-time-series-forecasting\n"
      ]
    },
    {
      "cell_type": "code",
      "execution_count": null,
      "metadata": {
        "id": "cvj17zUPa9N8"
      },
      "outputs": [],
      "source": [
        "!unzip store-sales-time-series-forecasting.zip\n"
      ]
    },
    {
      "cell_type": "code",
      "execution_count": null,
      "metadata": {
        "id": "RlU6Fv6Xd9Hf"
      },
      "outputs": [],
      "source": [
        "store=pd.read_csv('stores.csv')\n",
        "store.head()"
      ]
    },
    {
      "cell_type": "code",
      "execution_count": null,
      "metadata": {
        "id": "UYEQ5S2veApk"
      },
      "outputs": [],
      "source": [
        "transaction=pd.read_csv('transactions.csv')\n",
        "transaction.head()"
      ]
    },
    {
      "cell_type": "code",
      "execution_count": null,
      "metadata": {
        "id": "INWlwUwcbqW4"
      },
      "outputs": [],
      "source": [
        "holiday=pd.read_csv('holidays_events.csv')\n",
        "holiday.head()"
      ]
    },
    {
      "cell_type": "code",
      "execution_count": null,
      "metadata": {
        "id": "OkTsgxeCbGTC"
      },
      "outputs": [],
      "source": [
        "oil=pd.read_csv('oil.csv')\n",
        "oil.head()\n"
      ]
    },
    {
      "cell_type": "code",
      "execution_count": null,
      "metadata": {
        "id": "MM_3n-hIblRQ"
      },
      "outputs": [],
      "source": [
        "train=pd.read_csv('train.csv')\n",
        "train.head()"
      ]
    },
    {
      "cell_type": "code",
      "execution_count": null,
      "metadata": {
        "id": "VqYM8C8qcc5I"
      },
      "outputs": [],
      "source": [
        "test=pd.read_csv('test.csv')\n",
        "test.head()"
      ]
    },
    {
      "cell_type": "code",
      "execution_count": null,
      "metadata": {
        "id": "BPxlCWvfeuV2"
      },
      "outputs": [],
      "source": [
        "def stats(df):\n",
        "  print(\"Information of dataset:\",df.info())\n",
        "  print(\"************\")\n",
        "  print(\"Shape of dataset:\",df.shape)\n",
        "  print(\"************\")\n",
        "  print(\"Statstical Summary:\",df.describe())\n",
        "  print(\"************\")\n",
        "  print(\"Null Values:\",df.isnull().sum())\n",
        "  print(\"************\")\n",
        "  print(\"Duplicate Values\",df.duplicated().sum())"
      ]
    },
    {
      "cell_type": "code",
      "execution_count": null,
      "metadata": {
        "id": "wGgXOSP8h1xY"
      },
      "outputs": [],
      "source": [
        "stats(train)"
      ]
    },
    {
      "cell_type": "code",
      "execution_count": null,
      "metadata": {
        "id": "WMwdq5W5h4Dv"
      },
      "outputs": [],
      "source": [
        "stats(store)"
      ]
    },
    {
      "cell_type": "code",
      "execution_count": null,
      "metadata": {
        "id": "heIJ4fQRiJSA"
      },
      "outputs": [],
      "source": [
        "stats(transaction)"
      ]
    },
    {
      "cell_type": "code",
      "execution_count": null,
      "metadata": {
        "id": "twmo4YTxiKtq"
      },
      "outputs": [],
      "source": [
        "stats(holiday)"
      ]
    },
    {
      "cell_type": "code",
      "execution_count": null,
      "metadata": {
        "id": "2vTh8Ihbic2h"
      },
      "outputs": [],
      "source": [
        "stats(oil)"
      ]
    },
    {
      "cell_type": "code",
      "execution_count": null,
      "metadata": {
        "collapsed": true,
        "id": "2NCfd1U2ieWV"
      },
      "outputs": [],
      "source": [
        "# dcoilwtico has missing values"
      ]
    },
    {
      "cell_type": "code",
      "execution_count": null,
      "metadata": {
        "id": "DqogT2dzgJ-y"
      },
      "outputs": [],
      "source": [
        "# Null values present in oil dataframem\n",
        "(oil['dcoilwtico'].isna().sum())/len(oil['dcoilwtico'])"
      ]
    },
    {
      "cell_type": "code",
      "execution_count": null,
      "metadata": {
        "id": "1pKAozgQgD2l"
      },
      "outputs": [],
      "source": [
        "# Missing value imputation\n",
        "oil['dcoilwtico']=oil['dcoilwtico'].fillna(method='bfill').fillna(method='ffill')"
      ]
    },
    {
      "cell_type": "code",
      "execution_count": null,
      "metadata": {
        "id": "7Chp34cHh6QX"
      },
      "outputs": [],
      "source": [
        "(oil['dcoilwtico'].isna().sum())/len(oil['dcoilwtico'])"
      ]
    },
    {
      "cell_type": "code",
      "execution_count": null,
      "metadata": {
        "id": "iND71PJmjTQ1"
      },
      "outputs": [],
      "source": [
        "train.drop('id',axis=1,inplace=True)"
      ]
    },
    {
      "cell_type": "code",
      "execution_count": null,
      "metadata": {
        "id": "uU1gYYGCj6vB"
      },
      "outputs": [],
      "source": [
        "# Converting all date object data type to date data type\n",
        "train['date']=pd.to_datetime(train['date'])\n",
        "test['date']=pd.to_datetime(test['date'])\n",
        "transaction['date']=pd.to_datetime(transaction['date'])\n",
        "oil['date']=pd.to_datetime(oil['date'])\n",
        "holiday['date']=pd.to_datetime(holiday['date'])"
      ]
    },
    {
      "cell_type": "code",
      "execution_count": null,
      "metadata": {
        "id": "2H0i6vlqkejG"
      },
      "outputs": [],
      "source": [
        "# Checking memory usage of this feature!\n",
        "train['store_nbr'].info()"
      ]
    },
    {
      "cell_type": "code",
      "execution_count": null,
      "metadata": {
        "id": "5PEICc2NkigZ"
      },
      "outputs": [],
      "source": [
        "# The feature is taking alot of memory so we will convert it to int8\n",
        "train['store_nbr']=train['store_nbr'].astype('int8')\n",
        "test['store_nbr']=test['store_nbr'].astype('int8')"
      ]
    },
    {
      "cell_type": "code",
      "execution_count": null,
      "metadata": {
        "id": "evhSECyIlEFt"
      },
      "outputs": [],
      "source": [
        "train['store_nbr'].info()"
      ]
    },
    {
      "cell_type": "code",
      "execution_count": null,
      "metadata": {
        "id": "aFdvAKwgl2Rd"
      },
      "outputs": [],
      "source": [
        "train['sales']=train['sales'].astype('float32')"
      ]
    },
    {
      "cell_type": "code",
      "execution_count": null,
      "metadata": {
        "id": "e5VzGk0jmJbd"
      },
      "outputs": [],
      "source": [
        "train['onpromotion'].info()"
      ]
    },
    {
      "cell_type": "code",
      "execution_count": null,
      "metadata": {
        "id": "ErmP8XjhmeJz"
      },
      "outputs": [],
      "source": [
        "train['onpromotion']=train['onpromotion'].astype('int8')\n",
        "test['onpromotion']=test['onpromotion'].astype('int8')"
      ]
    },
    {
      "cell_type": "code",
      "execution_count": null,
      "metadata": {
        "id": "urYk0n5PlI1G"
      },
      "outputs": [],
      "source": [
        "transaction['store_nbr']=transaction['store_nbr'].astype('int8')"
      ]
    },
    {
      "cell_type": "code",
      "execution_count": null,
      "metadata": {
        "id": "qpeUW9iLlvte"
      },
      "outputs": [],
      "source": [
        "fig = px.line(transaction, x='date', y='transactions', title='Transactions Over Time')\n",
        "fig.update_layout(\n",
        "    xaxis_title='Date',\n",
        "    yaxis_title='Transactions'\n",
        ")\n",
        "\n",
        "fig.show()"
      ]
    },
    {
      "cell_type": "code",
      "execution_count": null,
      "metadata": {
        "id": "WttezBbJmvM0"
      },
      "outputs": [],
      "source": [
        "# We can see transactions peak around end of December and in mid of May that means sales are more during holiday time i.e. chirstmas and battle of pinchina day."
      ]
    },
    {
      "cell_type": "code",
      "execution_count": null,
      "metadata": {
        "id": "eC24cP-AtN2m"
      },
      "outputs": [],
      "source": [
        "holidays_based_transactions = pd.merge(transaction, holiday, on='date',how='right')\n",
        "holidays_based_transactions.shape"
      ]
    },
    {
      "cell_type": "code",
      "execution_count": null,
      "metadata": {
        "id": "9E0KsWQucK6b"
      },
      "outputs": [],
      "source": [
        "holidays_based_transactions.head()"
      ]
    },
    {
      "cell_type": "code",
      "execution_count": null,
      "metadata": {
        "id": "YgM60DmJtml3"
      },
      "outputs": [],
      "source": [
        "fig = px.line(holidays_based_transactions, x='date', y='transactions', title='Transactions Over Time')\n",
        "fig.update_layout(\n",
        "    xaxis_title='Date',\n",
        "    yaxis_title='Transactions'\n",
        ")\n",
        "\n",
        "fig.show()"
      ]
    },
    {
      "cell_type": "markdown",
      "metadata": {
        "id": "fLF4i-VSfOX2"
      },
      "source": [
        "**Monthly Average Transactions**"
      ]
    },
    {
      "cell_type": "code",
      "execution_count": null,
      "metadata": {
        "id": "mzlCMnUWdY-j"
      },
      "outputs": [],
      "source": [
        "a = transaction.set_index(\"date\").resample(\"M\").transactions.mean().reset_index()\n",
        "a[\"year\"] = a.date.dt.year\n",
        "px.line(a, x='date', y='transactions', color='year',title = \"Monthly Average Transactions\" )"
      ]
    },
    {
      "cell_type": "code",
      "execution_count": null,
      "metadata": {
        "id": "9x1tl3oJ1VK0"
      },
      "outputs": [],
      "source": [
        "data=pd.merge(train,store,on='store_nbr',how='left')\n",
        "data.head()"
      ]
    },
    {
      "cell_type": "code",
      "execution_count": null,
      "metadata": {
        "id": "iy6BDctQ1_90"
      },
      "outputs": [],
      "source": [
        "data=pd.merge(data,transaction,on=['date','store_nbr'],how='left')\n",
        "data.head()"
      ]
    },
    {
      "cell_type": "code",
      "execution_count": null,
      "metadata": {
        "id": "PnEqoKn-2FDM"
      },
      "outputs": [],
      "source": [
        "data=pd.merge(data,oil,on='date',how='left')\n",
        "data.head()"
      ]
    },
    {
      "cell_type": "code",
      "source": [
        "data=pd.merge(data,holiday,on='date',how='left')\n",
        "data.head()"
      ],
      "metadata": {
        "id": "Z3JnSkI-SzX2"
      },
      "execution_count": null,
      "outputs": []
    },
    {
      "cell_type": "code",
      "source": [
        "final_data=data.copy()"
      ],
      "metadata": {
        "id": "ykGi7mCvS6C_"
      },
      "execution_count": null,
      "outputs": []
    },
    {
      "cell_type": "code",
      "source": [
        "final_data.head()"
      ],
      "metadata": {
        "id": "8Ra9TfPaTdhx"
      },
      "execution_count": null,
      "outputs": []
    },
    {
      "cell_type": "markdown",
      "source": [
        "# **Exploratory Data Analysis**"
      ],
      "metadata": {
        "id": "K8BCL98qZ4-J"
      }
    },
    {
      "cell_type": "code",
      "source": [
        "sns.barplot(x='state',y='sales',data=final_data)\n",
        "plt.title('Sales by state in Ecuador')\n",
        "plt.xticks(rotation=90)\n",
        "plt.show()"
      ],
      "metadata": {
        "id": "tpFoSjz4Yw3E"
      },
      "execution_count": null,
      "outputs": []
    },
    {
      "cell_type": "markdown",
      "source": [
        "**Highest** sales are recorded in *Pichincha* state of Ecuador and lowest sales are of *Pastaza* state."
      ],
      "metadata": {
        "id": "JzRFzzk5Zk_3"
      }
    },
    {
      "cell_type": "code",
      "source": [
        "plt.figure(figsize=(10, 6))\n",
        "sns.barplot(x='type_y', y='sales', data=final_data)\n",
        "plt.show()"
      ],
      "metadata": {
        "id": "TreORpGpW6eK"
      },
      "execution_count": null,
      "outputs": []
    },
    {
      "cell_type": "markdown",
      "source": [
        "**Highest sales** are observed on *Additional* type of Holidays and second highest is on the days when holidays were *transferred*."
      ],
      "metadata": {
        "id": "b4Ldb1AvYSW5"
      }
    },
    {
      "cell_type": "code",
      "source": [
        "sns.barplot(x='family',y='sales',data=final_data)\n",
        "plt.xticks(rotation=90)\n",
        "plt.show()"
      ],
      "metadata": {
        "id": "4WJVv_UlUx1L"
      },
      "execution_count": null,
      "outputs": []
    },
    {
      "cell_type": "markdown",
      "source": [
        "**Top** **3** sales are Grocery 1, Beverages and Produce."
      ],
      "metadata": {
        "id": "05SjsyAeVUsZ"
      }
    },
    {
      "cell_type": "code",
      "source": [
        "o = oil.set_index(\"date\").resample(\"M\").dcoilwtico.mean().reset_index()\n",
        "o[\"year\"] = o.date.dt.year\n",
        "px.line(o, x='date', y='dcoilwtico', color='year',title = \"Monthly Average oil production\" )"
      ],
      "metadata": {
        "id": "K5HRyB4zU4az"
      },
      "execution_count": null,
      "outputs": []
    },
    {
      "cell_type": "markdown",
      "source": [
        "**Oil** Prices after June 30th 2014 are continuously **decreasing**.\n",
        "\n",
        "It is due to protestes conducted by Enviornmentalist and in 2024 voters voted against oil drilling in Amazon Forest."
      ],
      "metadata": {
        "id": "uEc7FSCbWZVD"
      }
    },
    {
      "cell_type": "code",
      "source": [
        "# Which store is having highest sales?\n",
        "sal=final_data.groupby('store_nbr')['sales'].sum().sort_values(ascending=False)\n",
        "plt.figure(figsize=(12, 8))\n",
        "sns.barplot(x=sal.index, y=sal.values, order=sal.index,palette='viridis')\n",
        "plt.title('Total Sales by Store')\n",
        "plt.show()"
      ],
      "metadata": {
        "id": "cg1bRhkOaN3a"
      },
      "execution_count": null,
      "outputs": []
    },
    {
      "cell_type": "markdown",
      "source": [
        "Store number 44, 45, 47 are earning the highest sales recorded."
      ],
      "metadata": {
        "id": "VKsYOEzCb2Ma"
      }
    },
    {
      "cell_type": "code",
      "source": [
        "zero = final_data.groupby([\"store_nbr\", \"family\"]).sales.sum().reset_index().sort_values([\"family\",\"store_nbr\"])\n",
        "zero = zero[zero.sales == 0]\n",
        "zero"
      ],
      "metadata": {
        "id": "8QNrM8aja10x"
      },
      "execution_count": null,
      "outputs": []
    },
    {
      "cell_type": "markdown",
      "source": [
        "As these stores are not getting in sales in some categories the recommended thing would be to trasform these sales data."
      ],
      "metadata": {
        "id": "NPOibYAXcjDX"
      }
    },
    {
      "cell_type": "code",
      "source": [
        "final_data['log_sales'] = np.log1p(final_data['sales'])"
      ],
      "metadata": {
        "id": "cG97l5TUezPV"
      },
      "execution_count": null,
      "outputs": []
    },
    {
      "cell_type": "code",
      "source": [
        "final_data['day_of_week'] = final_data['date'].dt.dayofweek"
      ],
      "metadata": {
        "id": "id2gRYUJhPqH"
      },
      "execution_count": null,
      "outputs": []
    },
    {
      "cell_type": "code",
      "source": [
        "test['day_of_week'] = pd.to_datetime(test['date']).dt.dayofweek"
      ],
      "metadata": {
        "id": "Sms-ZrjtlHzN"
      },
      "execution_count": null,
      "outputs": []
    },
    {
      "cell_type": "code",
      "source": [
        "features = ['store_nbr', 'day_of_week', 'cluster', 'dcoilwtico','onpromotion']"
      ],
      "metadata": {
        "id": "9tEFwgYzhIJE"
      },
      "execution_count": null,
      "outputs": []
    },
    {
      "cell_type": "code",
      "source": [
        "X_train = pd.get_dummies(final_data[features])"
      ],
      "metadata": {
        "id": "EiJJL4mSijHf"
      },
      "execution_count": null,
      "outputs": []
    },
    {
      "cell_type": "code",
      "source": [
        "y_train=final_data['log_sales']"
      ],
      "metadata": {
        "id": "Cm5y1OC9jjDX"
      },
      "execution_count": null,
      "outputs": []
    },
    {
      "cell_type": "code",
      "source": [
        "X_train = X_train.dropna()\n",
        "y_train = y_train[X_train.index]\n"
      ],
      "metadata": {
        "id": "BnrFDIkYj_8E"
      },
      "execution_count": null,
      "outputs": []
    },
    {
      "cell_type": "code",
      "source": [
        "from sklearn.model_selection import train_test_split\n",
        "from sklearn.ensemble import GradientBoostingRegressor\n",
        "from sklearn.metrics import mean_squared_error"
      ],
      "metadata": {
        "id": "oCv03MzQm-wt"
      },
      "execution_count": null,
      "outputs": []
    },
    {
      "cell_type": "code",
      "source": [
        "X_test = pd.get_dummies(test[features])\n",
        "\n",
        "X_train, X_test, y_train, y_test = train_test_split(X_train, y_train, test_size=0.2, random_state=42)"
      ],
      "metadata": {
        "id": "6xSl59FGPOva"
      },
      "execution_count": null,
      "outputs": []
    },
    {
      "cell_type": "code",
      "source": [
        "model = GradientBoostingRegressor(n_estimators=100, random_state=42)\n",
        "model.fit(X_train, y_train)\n",
        "\n",
        "y_predict = model.predict(X_test)\n",
        "\n",
        "rmse = np.sqrt(mean_squared_error(y_test, y_predict))"
      ],
      "metadata": {
        "id": "vy6xF-O9leJh"
      },
      "execution_count": null,
      "outputs": []
    },
    {
      "cell_type": "code",
      "source": [
        "print(rmse)"
      ],
      "metadata": {
        "id": "nggMvFIrnReM"
      },
      "execution_count": null,
      "outputs": []
    },
    {
      "cell_type": "code",
      "source": [
        "# LSTM"
      ],
      "metadata": {
        "id": "pVaqJz-toMhH"
      },
      "execution_count": null,
      "outputs": []
    },
    {
      "cell_type": "code",
      "source": [
        "from sklearn.preprocessing import MinMaxScaler\n",
        "from tensorflow.keras.models import Sequential\n",
        "from tensorflow.keras.layers import LSTM, Dense"
      ],
      "metadata": {
        "id": "jYu-zfCbPWaq"
      },
      "execution_count": null,
      "outputs": []
    },
    {
      "cell_type": "code",
      "source": [
        "final_data.set_index('date', inplace=True)"
      ],
      "metadata": {
        "id": "uOzd_7tUP3ip"
      },
      "execution_count": null,
      "outputs": []
    },
    {
      "cell_type": "code",
      "source": [
        "# To predict sales\n",
        "sales = final_data['sales'].values.reshape(-1, 1)"
      ],
      "metadata": {
        "id": "f1bZlEfRP5Es"
      },
      "execution_count": null,
      "outputs": []
    },
    {
      "cell_type": "code",
      "source": [
        "# Scale the data\n",
        "scaler = MinMaxScaler(feature_range=(0, 1))\n",
        "scaled_sales = scaler.fit_transform(sales)"
      ],
      "metadata": {
        "id": "9ZNZ6LzvQBoR"
      },
      "execution_count": null,
      "outputs": []
    },
    {
      "cell_type": "code",
      "source": [
        "def create_sequences(data, seq_length):\n",
        "    X, y = [], []\n",
        "    for i in range(len(data) - seq_length):\n",
        "        end_ix = i + seq_length\n",
        "        seq_x, seq_y = data[i:end_ix], data[end_ix]\n",
        "        X.append(seq_x)\n",
        "        y.append(seq_y)\n",
        "    return np.array(X), np.array(y)\n",
        "\n",
        "# Define sequence length (model will use past 7 days of data)\n",
        "seq_length = 7\n",
        "# Create sequences of data\n",
        "X, y = create_sequences(scaled_sales, seq_length)"
      ],
      "metadata": {
        "id": "OUjMTA4CQFpc"
      },
      "execution_count": null,
      "outputs": []
    },
    {
      "cell_type": "code",
      "source": [
        "# Split the data into training and testing sets\n",
        "train_size = int(len(X) * 0.8)\n",
        "test_size = len(X) - train_size\n",
        "\n",
        "X_train, X_test = X[:train_size], X[train_size:]\n",
        "y_train, y_test = y[:train_size], y[train_size:]"
      ],
      "metadata": {
        "id": "mtm4lXiKQzR7"
      },
      "execution_count": null,
      "outputs": []
    },
    {
      "cell_type": "code",
      "source": [
        "# Reshape input to be [samples, time steps, features] expected by LSTM\n",
        "X_train = X_train.reshape(X_train.shape[0], seq_length, 1)\n",
        "X_test = X_test.reshape(X_test.shape[0], seq_length, 1)\n",
        "\n",
        "# Define the LSTM model\n",
        "model = Sequential([\n",
        "    LSTM(units=50, activation='relu', input_shape=(seq_length, 1)),\n",
        "    Dense(units=1)\n",
        "])\n",
        "\n",
        "# Compile the model\n",
        "model.compile(optimizer='adam', loss='mean_squared_error')\n",
        "\n",
        "# Train the model\n",
        "model.fit(X_train, y_train, epochs=5, batch_size=32)\n"
      ],
      "metadata": {
        "id": "lzHZFzP6QzOk"
      },
      "execution_count": null,
      "outputs": []
    },
    {
      "cell_type": "code",
      "source": [
        "# Evaluate the model\n",
        "train_loss = model.evaluate(X_train, y_train, verbose=0)\n",
        "test_loss = model.evaluate(X_test, y_test, verbose=0)\n",
        "\n",
        "print(f'Train Loss: {train_loss:.4f}')\n",
        "print(f'Test Loss: {test_loss:.4f}')\n"
      ],
      "metadata": {
        "id": "78tp54u8QzMN"
      },
      "execution_count": null,
      "outputs": []
    },
    {
      "cell_type": "code",
      "source": [
        "# Make predictions\n",
        "predicted_sales = model.predict(X_test)\n",
        "\n",
        "# Inverse transform predictions to get actual values\n",
        "predicted_sales = scaler.inverse_transform(predicted_sales)\n"
      ],
      "metadata": {
        "id": "J6tR7sf_QzFu"
      },
      "execution_count": null,
      "outputs": []
    },
    {
      "cell_type": "code",
      "source": [
        "# Plot actual vs predicted sales\n",
        "plt.figure(figsize=(14, 7))\n",
        "plt.plot(sales[-len(y_test):], label='Actual Sales')\n",
        "plt.plot(predicted_sales, label='Predicted Sales')\n",
        "plt.title('Sales Forecasting with LSTM')\n",
        "plt.xlabel('Time')\n",
        "plt.ylabel('Sales')\n",
        "plt.legend()\n",
        "plt.show()\n",
        ""
      ],
      "metadata": {
        "id": "D3zbpaEFPQ9d"
      },
      "execution_count": null,
      "outputs": []
    },
    {
      "cell_type": "code",
      "source": [],
      "metadata": {
        "id": "qLT_Jdt7PQ6r"
      },
      "execution_count": null,
      "outputs": []
    },
    {
      "cell_type": "code",
      "source": [],
      "metadata": {
        "id": "i9d6aqZaPQ4Y"
      },
      "execution_count": null,
      "outputs": []
    },
    {
      "cell_type": "code",
      "source": [],
      "metadata": {
        "id": "4lLfKPmvPQ19"
      },
      "execution_count": null,
      "outputs": []
    }
  ],
  "metadata": {
    "colab": {
      "provenance": [],
      "gpuType": "T4",
      "authorship_tag": "ABX9TyN5W/B5tC6tNIYHnMIWQGVz",
      "include_colab_link": true
    },
    "kernelspec": {
      "display_name": "Python 3",
      "name": "python3"
    },
    "language_info": {
      "name": "python"
    },
    "accelerator": "GPU"
  },
  "nbformat": 4,
  "nbformat_minor": 0
}